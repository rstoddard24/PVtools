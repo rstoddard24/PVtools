{
 "cells": [
  {
   "cell_type": "code",
   "execution_count": 1,
   "metadata": {},
   "outputs": [],
   "source": [
    "import numpy as np\n",
    "import pandas as pd\n"
   ]
  },
  {
   "cell_type": "markdown",
   "metadata": {},
   "source": [
    "# Markdown Title\n",
    "\n",
    "## Things to chat about\n",
    "1. Why python?\n",
    "2. Basic python syntax (math, functions, loops, exceptions)\n",
    "3. Common python packeges (np, pd, etc.). Common np manipulations\n",
    "4. Spyder\n",
    "5. Case Study: PL, and PL gradients\n",
    "6. Case Study: JV\n",
    "7. Case Study: Machine Learning with sklearn\n",
    "8. Interactive plots and GUI: Dash apps\n",
    "9. pip install\n",
    "10. Github"
   ]
  },
  {
   "cell_type": "code",
   "execution_count": 23,
   "metadata": {},
   "outputs": [
    {
     "name": "stdout",
     "output_type": "stream",
     "text": [
      "8\n",
      "0.5\n",
      "2\n",
      "16\n",
      "2\n",
      "0\n"
     ]
    }
   ],
   "source": [
    "#what do these operators do??\n",
    "print(2*4)\n",
    "\n",
    "print(2/4)\n",
    "\n",
    "print(4^6)\n",
    "\n",
    "print(2**4)\n",
    "\n",
    "print(2%4)\n",
    "\n",
    "print(2//4)"
   ]
  },
  {
   "cell_type": "code",
   "execution_count": 24,
   "metadata": {},
   "outputs": [],
   "source": [
    "import scipy"
   ]
  },
  {
   "cell_type": "code",
   "execution_count": null,
   "metadata": {},
   "outputs": [],
   "source": []
  }
 ],
 "metadata": {
  "kernelspec": {
   "display_name": "Python 3",
   "language": "python",
   "name": "python3"
  },
  "language_info": {
   "codemirror_mode": {
    "name": "ipython",
    "version": 3
   },
   "file_extension": ".py",
   "mimetype": "text/x-python",
   "name": "python",
   "nbconvert_exporter": "python",
   "pygments_lexer": "ipython3",
   "version": "3.6.6"
  }
 },
 "nbformat": 4,
 "nbformat_minor": 2
}
