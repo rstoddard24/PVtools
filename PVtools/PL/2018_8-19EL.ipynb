{
 "cells": [
  {
   "cell_type": "code",
   "execution_count": null,
   "metadata": {},
   "outputs": [],
   "source": [
    "import numpy as np\n",
    "import pandas as pd\n",
    "import math\n",
    "import scipy\n",
    "from scipy.interpolate import interp1d\n",
    "import matplotlib.pyplot as plt\n",
    "import PLtools\n",
    "import time\n",
    "import matplotlib.cm as cm\n",
    "import matplotlib as mpl\n",
    "import os\n",
    "from os import listdir\n",
    "%matplotlib inline\n",
    "\n",
    "#Constants\n",
    "pi = math.pi\n",
    "heV = 4.14e-15 #eV*s\n",
    "c = 2.99792e8 #m/s\n",
    "kbeV = 8.6173e-5 #eV/K\n",
    "keV = 8.6173e-5 #eV/K\n",
    "h = 6.626e-34\n",
    "kb = 1.38065e-23\n",
    "q = 1.60218e-19\n",
    "\n",
    "default_figsize = mpl.rcParamsDefault['figure.figsize']\n",
    "mpl.rcParams['figure.figsize'] = [1.5*val for val in default_figsize]\n",
    "font = {'family' : 'DejaVu Sans',\n",
    "        'weight' : 'bold',\n",
    "        'size'   : 24}\n",
    "\n",
    "mpl.rc('font', **font)\n",
    "mpl.rc('axes', linewidth=3)"
   ]
  },
  {
   "cell_type": "code",
   "execution_count": 34,
   "metadata": {},
   "outputs": [
    {
     "data": {
      "text/plain": [
       "['2018_7-24_Sample10_MW_1p1V_Sidetector.txt',\n",
       " '2018_7-24_Sample12_MW_1p1V_Sidetector.txt',\n",
       " '2018_7-24_Sample13_MW_1p1V_Sidetector.txt',\n",
       " '2018_7-24_Sample14_MW_1p1V_Sidetector.txt',\n",
       " '2018_7-24_Sample14_MW_1p5V_Sidetector.txt',\n",
       " '2018_7-24_Sample14_MW_1p5V_Sidetector2.txt',\n",
       " '2018_7-24_Sample15_MW_1p1V_Sidetector.txt',\n",
       " '2018_7-24_Sample16_MW_1p1V_Sidetector.txt',\n",
       " '2018_7-24_Sample17_MW_1p1V_Sidetector.txt',\n",
       " '2018_7-24_Sample9_MW_1p1V_Sidetector.txt']"
      ]
     },
     "execution_count": 34,
     "metadata": {},
     "output_type": "execute_result"
    }
   ],
   "source": [
    "#SPECIFY ANALYSIS DIRECTORY HERE\n",
    "directory = '2018_7-24EL'\n",
    "\n",
    "names_InGaAs = []\n",
    "names_Si = []\n",
    "\n",
    "\n",
    "for file in listdir(directory):\n",
    "    if (file[-4:] == '.txt') and not ('Dark' in file) and not ('Sidetector' in file):\n",
    "        names_InGaAs.append(file)\n",
    "    elif (file[-4:] == '.txt') and not ('Dark' in file) and ('Sidetector' in file):\n",
    "        names_Si.append(file)\n",
    "\n",
    "names_Si"
   ]
  },
  {
   "cell_type": "code",
   "execution_count": 11,
   "metadata": {
    "collapsed": true
   },
   "outputs": [],
   "source": [
    "def AIPL_maps(lname,dname,grating,laser_power,ND_filter,elpl):\n",
    "    \"\"\"\n",
    "    This function analyzes AIPL gradient XY maps and outputs numpy arrays of \n",
    "    meaningful parameters\n",
    "    \n",
    "    INPUTS:\n",
    "    lname = name corresponding to datafile (expecting an XY map, .txt)\n",
    "    dname = name corresponding to dark file (expecting single spectrum, .txt)\n",
    "    laswer_power = laswer power in SI [W]\n",
    "    ND_filter = OD filter placed between emission and detection (usually 0.0)\n",
    "    \n",
    "    OUTPUTS:\n",
    "    meanPL, PLQY, chi, QFLS, etc. shaped in same way as gradient. Expecting 10x50 gradient aspect\n",
    "    \"\"\"\n",
    "    if dname != []:\n",
    "        df = pd.read_table(dname,header=None)\n",
    "        dark = df.values\n",
    "    else:\n",
    "        dark = []\n",
    "    df = pd.read_table(lname,header=None)\n",
    "    data = df.values\n",
    "\n",
    "\n",
    "\n",
    "    AIPL = PLtools.aipl(data,dark,grating)\n",
    "    #Fix this issue - shouldn't have to load twice\n",
    "    df = pd.read_table(lname,header=None)\n",
    "    raw_data = df.values\n",
    "    #print(raw_data)\n",
    "\n",
    "#    for ii in range(500):\n",
    "#        #plt.style.use('seaborn')\n",
    "#        plt.plot(AIPL[0,:],AIPL[ii+1,:])\n",
    "#        plt.xlabel('nm', fontsize=18)\n",
    "#        plt.ylabel('AIPL',fontsize=18)\n",
    "\n",
    "    \n",
    "    aipl_data = AIPL\n",
    "\n",
    "    DiodeReadings_1sun = laser_power\n",
    "    DiodeResponse532= 0.2741\n",
    "    Area785ImageJ = pi*(6.01e-6)**2\n",
    "    Ep532 = 2.3305 #E per photon @532\n",
    "\n",
    "    #Load data from Mathmatica calcs to determine SQ limits @ 300 K and 350 K for various\n",
    "    #Egs\n",
    "    Egs = np.loadtxt('../../data/PLdata/vocmax_data/Egs.txt')\n",
    "    VocSQs300 = np.loadtxt('../../data/PLdata/vocmax_data/VocMaxs.txt') # 300 K\n",
    "    Jphs = np.loadtxt('../../data/PLdata/vocmax_data/Jphs.txt') #300 K\n",
    "    VocSQs350 = np.loadtxt('../../data/PLdata/vocmax_data/VocMaxs2.txt') # 350 K\n",
    "    VocSQs300_fn = interp1d(Egs, VocSQs300, kind='cubic')\n",
    "    VocSQs350_fn = interp1d(Egs, VocSQs350, kind='cubic')\n",
    "    Jphs_fn = interp1d(Egs, Jphs, kind='cubic')\n",
    "\n",
    "\n",
    "    DiodeReading = DiodeReadings_1sun\n",
    "    P532 = DiodeReading/(DiodeResponse532*Area785ImageJ*10) #W/m^2\n",
    "    Jp532 = DiodeReading*0.925/(DiodeResponse532*Area785ImageJ*1.60218e-19*Ep532*2)\n",
    "\n",
    "    if data.shape[1] == 2: #single spectrum\n",
    "        lam = aipl_data[:,0]\n",
    "        E = heV*c/(lam*1e-9)\n",
    "        if elpl == 0:\n",
    "            Ipl = aipl_data[:,1] \n",
    "        else:\n",
    "            Ipl = aipl_data[:,1]*(6.01e-6*2/2.2e-3)**2\n",
    "        \"\"\"\n",
    "        maxI = np.max(Ipl)\n",
    "        maxI_idx = np.argmax(Ipl)\n",
    "        peak_pos = E[maxI_idx]\n",
    "        HHMax_idx = np.argmin(np.absolute(maxI/2-Ipl[:maxI_idx]))\n",
    "        LHMax_idx = np.argmin(np.absolute(maxI/2-Ipl[maxI_idx:]))\n",
    "        LHMax_idx = LHMax_idx+maxI_idx-1\n",
    "        FWHM = E[HHMax_idx]-E[LHMax_idx]\n",
    "        VocSQ300 = VocSQs300_fn(E[maxI_idx])\n",
    "        VocSQ350 = VocSQs350_fn(E[maxI_idx])    \n",
    "        JphSQ = Jphs_fn(E[maxI_idx])\n",
    "        NSuns = Jp532*q/JphSQ;\n",
    "        VocMax300 = VocSQ300 + kb*300/q*np.log(Jp532*q/JphSQ)\n",
    "        VocMax350 = VocSQ350 + kb*350/q*np.log(Jp532*q/JphSQ)\n",
    "        TotalPL = np.mean(-E[1:-1]+E[0:-2])/2*(Ipl[0]+Ipl[-1]+2*np.sum(Ipl[1:-2]))\n",
    "        TotalPL_Eg = np.mean(-E[1:maxI_idx]+E[0:maxI_idx-1])/2*(Ipl[0]+Ipl[maxI_idx]+2*np.sum(Ipl[1:maxI_idx-1]))\n",
    "        PLQY = TotalPL/Jp532\n",
    "        dmu_PLQY = VocMax350-kbeV*350*np.log(1/PLQY)\n",
    "        chi_PLQY = dmu_PLQY/VocMax300 \n",
    "        chi_PLQY_Eg = (VocMax350-kbeV*350*np.log(1/(TotalPL_Eg/Jp532)))/VocMax300\n",
    "        PLQY_Eg = TotalPL_Eg/Jp532\n",
    "        dmu_PLQY_Eg = VocMax350-kbeV*350*np.log(1/(TotalPL_Eg/Jp532))\n",
    "        mean_Ipl = np.sum(Ipl_raw2*E)/np.sum(Ipl_raw2)\n",
    "        \"\"\"\n",
    "    else: #maps\n",
    "        k = 0\n",
    "        while np.isnan(aipl_data[0,k]):\n",
    "            k = k + 1\n",
    "        lam = aipl_data[0,k:]\n",
    "        E = heV*c/(lam*1e-9)\n",
    "        mean_Ipl = np.zeros(aipl_data.shape[0])\n",
    "        peak_pos = np.zeros(aipl_data.shape[0])\n",
    "        FWHM = np.zeros(aipl_data.shape[0])\n",
    "        PLQY = np.zeros(aipl_data.shape[0])\n",
    "        dmu_PLQY = np.zeros(aipl_data.shape[0])\n",
    "        chi_PLQY = np.zeros(aipl_data.shape[0])\n",
    "        dmu_PLQY_Eg = np.zeros(aipl_data.shape[0])\n",
    "        chi_PLQY_Eg = np.zeros(aipl_data.shape[0])\n",
    "        for ii in range(1,aipl_data.shape[0]):\n",
    "            Ipl = aipl_data[ii,k:]*(10**ND_filter)\n",
    "            maxI = np.max(Ipl)\n",
    "            maxI_idx = np.argmax(Ipl)\n",
    "            #print(raw_data)\n",
    "            if (raw_data[ii,k+maxI_idx] < 50) or (raw_data[ii,k+maxI_idx] > 59000):\n",
    "                mean_Ipl[ii-1] = np.nan\n",
    "                PLQY[ii-1] = np.nan\n",
    "                dmu_PLQY[ii-1] = np.nan\n",
    "                chi_PLQY[ii-1] = np.nan\n",
    "                chi_PLQY_Eg[ii-1] = np.nan\n",
    "                dmu_PLQY_Eg[ii-1] = np.nan\n",
    "            else:\n",
    "                peak_pos[ii-1] = E[maxI_idx]\n",
    "                try:\n",
    "                    HHMax_idx = np.argmin(np.absolute(maxI/2-Ipl[:maxI_idx]))\n",
    "                    LHMax_idx = np.argmin(np.absolute(maxI/2-Ipl[maxI_idx:]))\n",
    "                    LHMax_idx = LHMax_idx+maxI_idx-1\n",
    "                    FWHM[ii-1] = E[HHMax_idx]-E[LHMax_idx]\n",
    "                except ValueError:\n",
    "                    FWHM[ii-1] = 0\n",
    "                try:\n",
    "                    VocSQ300 = VocSQs300_fn(E[maxI_idx])\n",
    "                    VocSQ350 = VocSQs350_fn(E[maxI_idx])\n",
    "                    JphSQ = Jphs_fn(E[maxI_idx])\n",
    "                    NSuns = Jp532*q/JphSQ;\n",
    "                    VocMax300 = VocSQ300 + kb*300/q*np.log(Jp532*q/JphSQ)\n",
    "                    VocMax350 = VocSQ350 + kb*350/q*np.log(Jp532*q/JphSQ)\n",
    "                    TotalPL = np.mean(-E[1:-1]+E[0:-2])/2*(Ipl[0]+Ipl[-1]+2*np.sum(Ipl[1:-2]))\n",
    "                    TotalPL_Eg = np.mean(-E[1:maxI_idx]+E[0:maxI_idx-1])/2*(Ipl[0]+Ipl[maxI_idx]+2*np.sum(Ipl[1:maxI_idx-1]))\n",
    "                    PLQY[ii-1] = TotalPL/Jp532\n",
    "                    dmu_PLQY[ii-1] = VocMax350-kbeV*350*np.log(1/PLQY[ii-1])\n",
    "                    chi_PLQY[ii-1] = dmu_PLQY[ii-1]/VocMax300 \n",
    "                    chi_PLQY_Eg[ii-1] = (VocMax350-kbeV*350*np.log(1/(TotalPL_Eg/Jp532)))/VocMax300\n",
    "                    PLQY_Eg = TotalPL_Eg/Jp532\n",
    "                    dmu_PLQY_Eg[ii-1] = VocMax350-kbeV*350*np.log(1/(TotalPL_Eg/Jp532))\n",
    "                    mean_Ipl[ii-1] = np.sum(Ipl*E)/np.sum(Ipl)\n",
    "                except ValueError:\n",
    "                    VocSQ300 = 0\n",
    "                    VocSQ350 = 0\n",
    "                    JphSQ = 0\n",
    "                    NSuns = 1        \n",
    "\n",
    "    \n",
    "    \n",
    "    \n",
    "    return (E,Ipl)\n",
    "\n",
    "\n"
   ]
  },
  {
   "cell_type": "code",
   "execution_count": 40,
   "metadata": {},
   "outputs": [],
   "source": [
    "if not os.path.exists(directory + '/out'):\n",
    "    os.makedirs(directory + '/out')\n",
    "        \n",
    "for name1 in names_InGaAs:\n",
    "    lname = directory + '/' + name1\n",
    "    dname = []\n",
    "    grating = '1200nm-InGaAs'\n",
    "    elpl = 1 #0=PL, 1=EL\n",
    "    ND_filter = 0\n",
    "    laser_power = 40e-9\n",
    "    (E,Ipl) = AIPL_maps(lname,dname,grating,laser_power,ND_filter,elpl)\n",
    "    data_out = np.array([E,Ipl])\n",
    "    np.savetxt(directory + '/out/' + lname[12:-4] + '_absoulte_units.txt',data_out)\n",
    "\n",
    "for name2 in names_Si:\n",
    "    lname = directory + '/' + name2\n",
    "    dname = []\n",
    "    grating = '1200nm'\n",
    "    elpl = 1 #0=PL, 1=EL\n",
    "    ND_filter = 0\n",
    "    laser_power = 40e-9\n",
    "    (E,Ipl) = AIPL_maps(lname,dname,grating,laser_power,ND_filter,elpl)\n",
    "    data_out = np.array([E,Ipl])\n",
    "    np.savetxt(directory + '/out/' + lname[12:-4] + '_absoulte_units.txt',data_out)"
   ]
  },
  {
   "cell_type": "code",
   "execution_count": 33,
   "metadata": {},
   "outputs": [
    {
     "data": {
      "text/plain": [
       "'2018_7-24_Sample1_MW_1p5V_absoulte_units.txt'"
      ]
     },
     "execution_count": 33,
     "metadata": {},
     "output_type": "execute_result"
    }
   ],
   "source": [
    "name1"
   ]
  },
  {
   "cell_type": "code",
   "execution_count": 19,
   "metadata": {},
   "outputs": [
    {
     "data": {
      "text/plain": [
       "(2, 730)"
      ]
     },
     "execution_count": 19,
     "metadata": {},
     "output_type": "execute_result"
    }
   ],
   "source": [
    "data_out.shape"
   ]
  },
  {
   "cell_type": "code",
   "execution_count": null,
   "metadata": {},
   "outputs": [],
   "source": [
    "BB_raw_photon_data.shape"
   ]
  },
  {
   "cell_type": "code",
   "execution_count": null,
   "metadata": {},
   "outputs": [],
   "source": [
    "BB850 = np.loadtxt('../../data/PLdata/grating_calibration_files/BB 850C 10 um hole D0 10x 150 grating CCD 532 nm NoDS.txt')\n",
    "BB950 = np.loadtxt('../../data/PLdata/grating_calibration_files/BB 950C 10 um hole D0 10x 150 grating CCD 532 nm NoDS.txt')\n",
    "BB1050 = np.loadtxt('../../data/PLdata/grating_calibration_files/BB 1050C 10 um hole D0 10x 150 grating CCD 532 nm NoDS.txt')\n",
    "\n",
    "BB_raw_photon_data_1 = BB850[:,1]/np.insert(BB1050[1:,0]-BB1050[:-1,0], \n",
    "                                   0,BB1050[1,0]-BB1050[0,0])\n",
    "BB_raw_photon_data_2 = BB950[:,1]/np.insert(BB1050[1:,0]-BB1050[:-1,0], \n",
    "                                   0,BB1050[1,0]-BB1050[0,0])\n",
    "BB_raw_photon_data_3 = BB1050[:,1]/np.insert(BB1050[1:,0]-BB1050[:-1,0], \n",
    "                                   0,BB1050[1,0]-BB1050[0,0])"
   ]
  },
  {
   "cell_type": "code",
   "execution_count": 39,
   "metadata": {},
   "outputs": [
    {
     "data": {
      "text/plain": [
       "'2018_7-24_Sample10_MW_1p1V_Sidetector'"
      ]
     },
     "execution_count": 39,
     "metadata": {},
     "output_type": "execute_result"
    }
   ],
   "source": [
    "name1 = '2018_7-24_Sample10_MW_1p1V_Sidetector.txt'\n",
    "name2 = directory + '/' + name1\n",
    "name2[12:-4]"
   ]
  },
  {
   "cell_type": "code",
   "execution_count": null,
   "metadata": {},
   "outputs": [],
   "source": [
    "aa = np.array([BB_raw_photon_data_1,BB_raw_photon_data_2,BB_raw_photon_data_3])"
   ]
  },
  {
   "cell_type": "code",
   "execution_count": null,
   "metadata": {},
   "outputs": [],
   "source": [
    "aa.shape"
   ]
  },
  {
   "cell_type": "code",
   "execution_count": null,
   "metadata": {},
   "outputs": [],
   "source": [
    "bb = np.mean(aa,0)"
   ]
  },
  {
   "cell_type": "code",
   "execution_count": null,
   "metadata": {},
   "outputs": [],
   "source": [
    "bb.shape"
   ]
  },
  {
   "cell_type": "code",
   "execution_count": null,
   "metadata": {},
   "outputs": [],
   "source": [
    "AbsFluxesPerNM = np.zeros(aa.shape)\n",
    "\n",
    "AbsFluxesPerNM.shape"
   ]
  },
  {
   "cell_type": "code",
   "execution_count": null,
   "metadata": {},
   "outputs": [],
   "source": [
    "AbsFluxesPerNM"
   ]
  },
  {
   "cell_type": "code",
   "execution_count": null,
   "metadata": {},
   "outputs": [],
   "source": [
    "dark = 1\n",
    "dark != []"
   ]
  },
  {
   "cell_type": "code",
   "execution_count": 41,
   "metadata": {},
   "outputs": [
    {
     "data": {
      "text/plain": [
       "(2, 933)"
      ]
     },
     "execution_count": 41,
     "metadata": {},
     "output_type": "execute_result"
    }
   ],
   "source": [
    "data_out.shape"
   ]
  },
  {
   "cell_type": "code",
   "execution_count": null,
   "metadata": {
    "collapsed": true
   },
   "outputs": [],
   "source": []
  }
 ],
 "metadata": {
  "kernelspec": {
   "display_name": "Python 3",
   "language": "python",
   "name": "python3"
  },
  "language_info": {
   "codemirror_mode": {
    "name": "ipython",
    "version": 3
   },
   "file_extension": ".py",
   "mimetype": "text/x-python",
   "name": "python",
   "nbconvert_exporter": "python",
   "pygments_lexer": "ipython3",
   "version": "3.6.1"
  }
 },
 "nbformat": 4,
 "nbformat_minor": 2
}
