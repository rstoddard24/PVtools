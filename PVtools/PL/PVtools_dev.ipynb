{
 "cells": [
  {
   "cell_type": "code",
   "execution_count": 43,
   "metadata": {},
   "outputs": [],
   "source": [
    "import numpy as np\n",
    "import pandas as pd\n",
    "import math\n",
    "import scipy\n",
    "from scipy.interpolate import interp1d\n",
    "import matplotlib.pyplot as plt\n",
    "import PLtools\n",
    "import time\n",
    "%matplotlib inline"
   ]
  },
  {
   "cell_type": "code",
   "execution_count": 41,
   "metadata": {
    "collapsed": true
   },
   "outputs": [],
   "source": [
    "#Constants\n",
    "pi = math.pi\n",
    "heV = 4.14e-15 #eV*s\n",
    "c = 2.99792e8 #m/s\n",
    "kbeV = 8.6173e-5 #eV/K\n",
    "keV = 8.6173e-5 #eV/K\n",
    "h = 6.626e-34\n",
    "kb = 1.38065e-23\n",
    "q = 1.60218e-19"
   ]
  },
  {
   "cell_type": "code",
   "execution_count": 186,
   "metadata": {},
   "outputs": [],
   "source": [
    "df = pd.read_table('../../data/PLdata/example_spectra/dark.txt',header=None)\n",
    "dark = df.values\n",
    "df = pd.read_table('../../data/PLdata/example_spectra/2017_8-25 HPB XY.txt',header=None)\n",
    "data = df.values\n",
    "\n",
    "BB1050 = np.loadtxt('../../data/PLdata/grating_calibration_files/150 500'\n",
    "                    'blaze BB files/BB 1050 10 um hole 10x SiCCD 532 LP'\n",
    "                    'F No Duoscan Autoscanning_2.txt')\n",
    "\n",
    "BB_raw_photon_data = BB1050[:,1]/np.insert(BB1050[1:,0]-BB1050[:-1,0], \n",
    "                                           0,BB1050[1,0]-BB1050[0,0])\n",
    "\n",
    "def BBPhotonFluxPerNM(lam,T):\n",
    "    a = 2*pi/(h**3*c**2)*((h*c/(lam*1e-9))**2/(np.exp((h*c/(lam*1e-9))/(kb*T))-1))*(h*c/(lam*1e-9)**2)*1e-9\n",
    "    return a\n",
    "\n",
    "AbsFluxesPerNM = np.zeros(BB1050.shape[0])\n",
    "Ts = 1050;\n",
    "\n",
    "for ii in range(BB1050.shape[0]):\n",
    "    AbsFluxesPerNM[ii] = BBPhotonFluxPerNM(BB1050[ii,0],Ts+273.15)\n",
    "\n",
    "AbsPhotonRate = pi*(10/2*1e-6)**2*AbsFluxesPerNM #photons/sec-nm\n",
    "Conversion_factor = AbsPhotonRate/BB_raw_photon_data\n",
    "\n",
    "Ave_conv_factors = np.zeros([BB1050.shape[0],2])\n",
    "Ave_conv_factors[:,0] = BB1050[:,0]\n",
    "Ave_conv_factors[:,1] = Conversion_factor\n",
    "f2 = interp1d(Ave_conv_factors[:,0], Ave_conv_factors[:,1], kind='cubic')\n",
    "\n",
    "if data.shape[1] == 2: #single spectrum\n",
    "    aipl_out = data    \n",
    "    lam = data[:,0]\n",
    "    Ipl_raw = data[:,1] #cts/sec\n",
    "    Ipl_raw = Ipl_raw - dark[:,1]\n",
    "    Ipl_raw2 = Ipl_raw/np.insert(lam[1:]-lam[:-1],0,lam[1]-lam[0]) #cts/sec-nm    \n",
    "    Ipl_nm = Ipl_raw2*f2(lam) #photons/sec-nm\n",
    "    bandwidth_conv = np.insert(lam[1:]-lam[:-1],0,lam[1]-lam[0])/(heV*c/(lam*1e-9)**2*np.insert(lam[1:]-lam[:-1],0,lam[1]-lam[0])*1e-9)\n",
    "    Ipl = Ipl_nm*bandwidth_conv/(pi*(6.01e-6)**2*2*0.921) #photons/sec-eV-m^2 (divide by factor of 2 since only considering FWHM beam area) (divide by 0.921 for window)\n",
    "    aipl_out[:,1] = Ipl\n",
    "else:\n",
    "    aipl_out = data\n",
    "    k = 0\n",
    "    while np.isnan(data[0,k]):\n",
    "        k = k + 1\n",
    "    lam = data[0,k:]\n",
    "    for ii in range(1,data.shape[0]):\n",
    "        Ipl_raw = data[ii,k:]\n",
    "        Ipl_raw = Ipl_raw - dark[:,1]\n",
    "        Ipl_raw2 = Ipl_raw/np.insert(lam[1:]-lam[:-1],0,lam[1]-lam[0]) #cts/sec-nm    \n",
    "        Ipl_nm = Ipl_raw2*f2(lam) #photons/sec-nm\n",
    "        bandwidth_conv = np.insert(lam[1:]-lam[:-1],0,lam[1]-lam[0])/(heV*c/(lam*1e-9)**2*np.insert(lam[1:]-lam[:-1],0,lam[1]-lam[0])*1e-9)\n",
    "        Ipl = Ipl_nm*bandwidth_conv/(pi*(6.01e-6)**2*2*0.921) #photons/sec-eV-m^2 (divide by factor of 2 since only considering FWHM beam area) (divide by 0.921 for window)\n",
    "        aipl_out[ii,k:] = Ipl\n",
    "    \n",
    "            "
   ]
  },
  {
   "cell_type": "code",
   "execution_count": 164,
   "metadata": {},
   "outputs": [
    {
     "data": {
      "text/plain": [
       "<matplotlib.text.Text at 0x119b430f0>"
      ]
     },
     "execution_count": 164,
     "metadata": {},
     "output_type": "execute_result"
    },
    {
     "data": {
      "image/png": "[encoded data removed]",
      "text/plain": [
       "<matplotlib.figure.Figure at 0x119b1e240>"
      ]
     },
     "metadata": {},
     "output_type": "display_data"
    }
   ],
   "source": [
    "plt.style.use('seaborn')\n",
    "plt.plot(lam,Ipl)\n",
    "plt.xlabel('nm', fontsize=18)\n",
    "plt.ylabel('AIPL',fontsize=18)\n",
    "#plt.title('Operating Battery Santa Maria 2016',fontsize=18)\n",
    "#plt.legend(('20% <-> 60%','40% <-> 80%','60% <-> 100%'),fontsize=14)"
   ]
  },
  {
   "cell_type": "code",
   "execution_count": 170,
   "metadata": {
    "scrolled": true
   },
   "outputs": [
    {
     "data": {
      "text/plain": [
       "<matplotlib.text.Text at 0x11ca712b0>"
      ]
     },
     "execution_count": 170,
     "metadata": {},
     "output_type": "execute_result"
    },
    {
     "data": {
      "image/png": "[encoded data removed]",
      "text/plain": [
       "<matplotlib.figure.Figure at 0x119851c50>"
      ]
     },
     "metadata": {},
     "output_type": "display_data"
    }
   ],
   "source": [
    "df = pd.read_table('../../data/PLdata/example_spectra/dark.txt',header=None)\n",
    "dark = df.values\n",
    "df = pd.read_table('../../data/PLdata/example_spectra/2017_8-25 HPB XY.txt',header=None)\n",
    "data = df.values\n",
    "AIPL = PLtools.aipl(data,dark,'500nm')\n",
    "\n",
    "plt.style.use('seaborn')\n",
    "plt.plot(AIPL[0,:],AIPL[1,:])\n",
    "plt.xlabel('nm', fontsize=18)\n",
    "plt.ylabel('AIPL',fontsize=18)"
   ]
  },
  {
   "cell_type": "code",
   "execution_count": 196,
   "metadata": {},
   "outputs": [],
   "source": [
    "#def plqy_ext(aipl_data,laser_power):\n",
    "laser_power = 37*1e-9\n",
    "DiodeReadings_1sun = laser_power\n",
    "DiodeResponse532= 0.2741\n",
    "Area785ImageJ = pi*(6.01e-6)**2\n",
    "Ep532 = 2.3305 #E per photon @532\n",
    "\n",
    "#Load data from Mathmatica calcs to determine SQ limits @ 300 K and 350 K for various\n",
    "#Egs\n",
    "Egs = np.loadtxt('../../data/PLdata/vocmax_data/Egs.txt')\n",
    "VocSQs300 = np.loadtxt('../../data/PLdata/vocmax_data/VocMaxs.txt') # 300 K\n",
    "Jphs = np.loadtxt('../../data/PLdata/vocmax_data/Jphs.txt') #300 K\n",
    "VocSQs350 = np.loadtxt('../../data/PLdata/vocmax_data/VocMaxs2.txt') # 350 K\n",
    "VocSQs300_fn = interp1d(Egs, VocSQs300, kind='cubic')\n",
    "VocSQs350_fn = interp1d(Egs, VocSQs350, kind='cubic')\n",
    "Jphs_fn = interp1d(Egs, Jphs, kind='cubic')\n",
    "\n",
    "\n",
    "DiodeReading = DiodeReadings_1sun\n",
    "P532 = DiodeReading/(DiodeResponse532*Area785ImageJ*10) #W/m^2\n",
    "Jp532 = DiodeReading*0.925/(DiodeResponse532*Area785ImageJ*1.60218e-19*Ep532*2)\n",
    "\n",
    "if data.shape[1] == 2: #single spectrum\n",
    "    lam = aipl_data[:,0]\n",
    "    E = heV*c/(lam*1e-9)\n",
    "    Ipl = aipl_data[:,1] \n",
    "    maxI = np.max(Ipl)\n",
    "    maxI_idx = np.argmax(Ipl)\n",
    "    peak_pos = E[maxI_idx]\n",
    "    HHMax_idx = np.argmin(np.absolute(maxI/2-Ipl[:maxI_idx]))\n",
    "    LHMax_idx = np.argmin(np.absolute(maxI/2-Ipl[maxI_idx:]))\n",
    "    LHMax_idx = LHMax_idx+maxI_idx-1\n",
    "    FWHM = E[HHMax_idx]-E[LHMax_idx]\n",
    "    VocSQ300 = VocSQs300_fn(E[maxI_idx])\n",
    "    VocSQ350 = VocSQs350_fn(E[maxI_idx])    \n",
    "    JphSQ = Jphs_fn(E[maxI_idx])\n",
    "    NSuns = Jp532*q/JphSQ;\n",
    "    VocMax300 = VocSQ300 + kb*300/q*np.log(Jp532*q/JphSQ)\n",
    "    VocMax350 = VocSQ350 + kb*350/q*np.log(Jp532*q/JphSQ)\n",
    "    TotalPL = np.mean(-E[1:-1]+E[0:-2])/2*(Ipl[0]+Ipl[-1]+2*np.sum(Ipl[1:-2]))\n",
    "    TotalPL_Eg = np.mean(-E[1:maxI_idx]+E[0:maxI_idx-1])/2*(Ipl[0]+Ipl[maxI_idx]+2*np.sum(Ipl[1:maxI_idx-1]))\n",
    "    PLQY = TotalPL/Jp532\n",
    "    dmu_PLQY = VocMax350-kbeV*350*np.log(1/PLQY)\n",
    "    chi_PLQY = dmu_PLQY/VocMax300 \n",
    "    chi_PLQY_Eg = (VocMax350-kbeV*350*np.log(1/(TotalPL_Eg/Jp532)))/VocMax300\n",
    "    PLQY_Eg = TotalPL_Eg/Jp532\n",
    "    dmu_PLQY_Eg = VocMax350-kbeV*350*np.log(1/(TotalPL_Eg/Jp532))\n",
    "    mean_Ipl = np.sum(Ipl_raw2*E)/np.sum(Ipl_raw2)\n",
    "else: #maps\n",
    "    k = 0\n",
    "    while np.isnan(aipl_data[0,k]):\n",
    "        k = k + 1\n",
    "    lam = aipl_data[0,k:]\n",
    "    E = heV*c/(lam*1e-9)\n",
    "    mean_Ipl = np.zeros(aipl_data.shape[0])\n",
    "    peak_pos = np.zeros(aipl_data.shape[0])\n",
    "    FWHM = np.zeros(aipl_data.shape[0])\n",
    "    PLQY = np.zeros(aipl_data.shape[0])\n",
    "    dmu_PLQY = np.zeros(aipl_data.shape[0])\n",
    "    chi_PLQY = np.zeros(aipl_data.shape[0])\n",
    "    dmu_PLQY_Eg = np.zeros(aipl_data.shape[0])\n",
    "    chi_PLQY_Eg = np.zeros(aipl_data.shape[0])\n",
    "    for ii in range(1,aipl_data.shape[0]):\n",
    "        Ipl = aipl_data[ii,k:]\n",
    "        maxI = np.max(Ipl)\n",
    "        maxI_idx = np.argmax(Ipl)\n",
    "        peak_pos[ii-1] = E[maxI_idx]\n",
    "        HHMax_idx = np.argmin(np.absolute(maxI/2-Ipl[:maxI_idx]))\n",
    "        LHMax_idx = np.argmin(np.absolute(maxI/2-Ipl[maxI_idx:]))\n",
    "        LHMax_idx = LHMax_idx+maxI_idx-1\n",
    "        FWHM[ii-1] = E[HHMax_idx]-E[LHMax_idx]\n",
    "        VocSQ300 = VocSQs300_fn(E[maxI_idx])\n",
    "        VocSQ350 = VocSQs350_fn(E[maxI_idx])    \n",
    "        JphSQ = Jphs_fn(E[maxI_idx])\n",
    "        NSuns = Jp532*q/JphSQ;\n",
    "        VocMax300 = VocSQ300 + kb*300/q*np.log(Jp532*q/JphSQ)\n",
    "        VocMax350 = VocSQ350 + kb*350/q*np.log(Jp532*q/JphSQ)\n",
    "        TotalPL = np.mean(-E[1:-1]+E[0:-2])/2*(Ipl[0]+Ipl[-1]+2*np.sum(Ipl[1:-2]))\n",
    "        TotalPL_Eg = np.mean(-E[1:maxI_idx]+E[0:maxI_idx-1])/2*(Ipl[0]+Ipl[maxI_idx]+2*np.sum(Ipl[1:maxI_idx-1]))\n",
    "        PLQY[ii-1] = TotalPL/Jp532\n",
    "        dmu_PLQY[ii-1] = VocMax350-kbeV*350*np.log(1/PLQY[ii-1])\n",
    "        chi_PLQY[ii-1] = dmu_PLQY[ii-1]/VocMax300 \n",
    "        chi_PLQY_Eg[ii-1] = (VocMax350-kbeV*350*np.log(1/(TotalPL_Eg/Jp532)))/VocMax300\n",
    "        PLQY_Eg = TotalPL_Eg/Jp532\n",
    "        dmu_PLQY_Eg[ii-1] = VocMax350-kbeV*350*np.log(1/(TotalPL_Eg/Jp532))\n",
    "        mean_Ipl[ii-1] = np.sum(Ipl_raw2*E)/np.sum(Ipl_raw2)\n",
    "\n",
    "\n"
   ]
  },
  {
   "cell_type": "code",
   "execution_count": 194,
   "metadata": {},
   "outputs": [
    {
     "data": {
      "text/plain": [
       "array([ 0.87429466,  0.87644725,  0.87752594,  0.87666765,  0.87229858,\n",
       "        0.8723031 ,  0.88902324,  0.88925031,  0.88620253,  0.8882902 ,\n",
       "        0.88530709,  0.88970894,  0.88984929,  0.88988495,  0.89102346,\n",
       "        0.88967219,  0.88922163,  0.89133628,  0.89270084,  0.89091037,\n",
       "        0.88807132,  0.88642947,  0.88985154,  0.89039998,  0.89138348,\n",
       "        0.89152397,  0.88948147,  0.89009557,  0.88908025,  0.89038554,\n",
       "        0.890557  ,  0.88838434,  0.88608478,  0.89126144,  0.89156321,\n",
       "        0.88973671,  0.89073192,  0.8902223 ,  0.89035462,  0.89039894,\n",
       "        0.89037027,  0.88911145,  0.88781704,  0.88647727,  0.89089143,\n",
       "        0.89233799,  0.89105597,  0.89122181,  0.89047501,  0.88888993,\n",
       "        0.88798803,  0.88745224,  0.89019499,  0.88817261,  0.88720318,\n",
       "        0.89035494,  0.89265819,  0.88598573,  0.89108295,  0.88966905,\n",
       "        0.88806329,  0.87293828,  0.88584398,  0.89038416,  0.88907669,\n",
       "        0.88888181,  0.89098051,  0.89114344,  0.89155557,  0.89116425,\n",
       "        0.89143595,  0.88987432,  0.88793773,  0.88499196,  0.88643719,\n",
       "        0.8869135 ,  0.88894039,  0.89057643,  0.89161178,  0.89219763,\n",
       "        0.8912973 ,  0.890564  ,  0.88990042,  0.88983401,  0.88781677,\n",
       "        0.88896647,  0.88914406,  0.88895584,  0.8896633 ,  0.89164953,\n",
       "        0.89186986,  0.89253631,  0.89091562,  0.89020991,  0.89107934,\n",
       "        0.88928783,  0.88993194,  0.88828116,  0.87428616,  0.88902237,\n",
       "        0.88868865,  0.88962368,  0.8897446 ,  0.88954765,  0.89056054,\n",
       "        0.88911298,  0.88786902,  0.88719484,  0.88331383,  0.88020494,\n",
       "        0.88658632,  0.88813376,  0.88713886,  0.88753988,  0.88782478,\n",
       "        0.88869973,  0.88923782,  0.88806523,  0.88942718,  0.87900255,\n",
       "        0.87761064,  0.        ])"
      ]
     },
     "execution_count": 194,
     "metadata": {},
     "output_type": "execute_result"
    }
   ],
   "source": [
    "chi_PLQY"
   ]
  },
  {
   "cell_type": "code",
   "execution_count": 2,
   "metadata": {},
   "outputs": [
    {
     "data": {
      "text/plain": [
       "array([ 0.87429466,  0.87644725,  0.87752594,  0.87666765,  0.87229858,\n",
       "        0.8723031 ,  0.88902324,  0.88925031,  0.88620253,  0.8882902 ,\n",
       "        0.88530709,  0.88970894,  0.88984929,  0.88988495,  0.89102346,\n",
       "        0.88967219,  0.88922163,  0.89133628,  0.89270084,  0.89091037,\n",
       "        0.88807132,  0.88642947,  0.88985154,  0.89039998,  0.89138348,\n",
       "        0.89152397,  0.88948147,  0.89009557,  0.88908025,  0.89038554,\n",
       "        0.890557  ,  0.88838434,  0.88608478,  0.89126144,  0.89156321,\n",
       "        0.88973671,  0.89073192,  0.8902223 ,  0.89035462,  0.89039894,\n",
       "        0.89037027,  0.88911145,  0.88781704,  0.88647727,  0.89089143,\n",
       "        0.89233799,  0.89105597,  0.89122181,  0.89047501,  0.88888993,\n",
       "        0.88798803,  0.88745224,  0.89019499,  0.88817261,  0.88720318,\n",
       "        0.89035494,  0.89265819,  0.88598573,  0.89108295,  0.88966905,\n",
       "        0.88806329,  0.87293828,  0.88584398,  0.89038416,  0.88907669,\n",
       "        0.88888181,  0.89098051,  0.89114344,  0.89155557,  0.89116425,\n",
       "        0.89143595,  0.88987432,  0.88793773,  0.88499196,  0.88643719,\n",
       "        0.8869135 ,  0.88894039,  0.89057643,  0.89161178,  0.89219763,\n",
       "        0.8912973 ,  0.890564  ,  0.88990042,  0.88983401,  0.88781677,\n",
       "        0.88896647,  0.88914406,  0.88895584,  0.8896633 ,  0.89164953,\n",
       "        0.89186986,  0.89253631,  0.89091562,  0.89020991,  0.89107934,\n",
       "        0.88928783,  0.88993194,  0.88828116,  0.87428616,  0.88902237,\n",
       "        0.88868865,  0.88962368,  0.8897446 ,  0.88954765,  0.89056054,\n",
       "        0.88911298,  0.88786902,  0.88719484,  0.88331383,  0.88020494,\n",
       "        0.88658632,  0.88813376,  0.88713886,  0.88753988,  0.88782478,\n",
       "        0.88869973,  0.88923782,  0.88806523,  0.88942718,  0.87900255,\n",
       "        0.87761064])"
      ]
     },
     "execution_count": 2,
     "metadata": {},
     "output_type": "execute_result"
    },
    {
     "data": {
      "image/png": "[encoded data removed]",
      "text/plain": [
       "<matplotlib.figure.Figure at 0x10cee42e8>"
      ]
     },
     "metadata": {},
     "output_type": "display_data"
    }
   ],
   "source": [
    "df = pd.read_table('../../data/PLdata/example_spectra/dark.txt',header=None)\n",
    "dark = df.values\n",
    "df = pd.read_table('../../data/PLdata/example_spectra/2017_8-25 HPB XY.txt',header=None)\n",
    "data = df.values\n",
    "AIPL = PLtools.aipl(data,dark,'500nm')\n",
    "\n",
    "plt.style.use('seaborn')\n",
    "plt.plot(AIPL[0,:],AIPL[1,:])\n",
    "plt.xlabel('nm', fontsize=18)\n",
    "plt.ylabel('AIPL',fontsize=18)\n",
    "\n",
    "laser_power = 37*1e-9\n",
    "aipl_data = AIPL\n",
    "(mean_Ipl,peak_pos,FWHM,PLQY,dmu_PLQY,chi_PLQY,dmu_PLQY_Eg,chi_PLQY_Eg) = PLtools.plqy_ext(aipl_data,laser_power)\n",
    "\n",
    "chi_PLQY"
   ]
  },
  {
   "cell_type": "code",
   "execution_count": 7,
   "metadata": {},
   "outputs": [],
   "source": [
    "#def plqy_ext(aipl_data,laser_power):\n",
    "laser_power = 37*1e-9\n",
    "DiodeReadings_1sun = laser_power\n",
    "DiodeResponse532= 0.2741\n",
    "Area785ImageJ = pi*(6.01e-6)**2\n",
    "Ep532 = 2.3305 #E per photon @532\n",
    "\n",
    "#Load data from Mathmatica calcs to determine SQ limits @ 300 K and 350 K for various\n",
    "#Egs\n",
    "Egs = np.loadtxt('../../data/PLdata/vocmax_data/Egs.txt')\n",
    "VocSQs300 = np.loadtxt('../../data/PLdata/vocmax_data/VocMaxs.txt') # 300 K\n",
    "Jphs = np.loadtxt('../../data/PLdata/vocmax_data/Jphs.txt') #300 K\n",
    "VocSQs350 = np.loadtxt('../../data/PLdata/vocmax_data/VocMaxs2.txt') # 350 K\n",
    "VocSQs300_fn = interp1d(Egs, VocSQs300, kind='cubic')\n",
    "VocSQs350_fn = interp1d(Egs, VocSQs350, kind='cubic')\n",
    "Jphs_fn = interp1d(Egs, Jphs, kind='cubic')\n",
    "\n",
    "\n",
    "DiodeReading = DiodeReadings_1sun\n",
    "P532 = DiodeReading/(DiodeResponse532*Area785ImageJ*10) #W/m^2\n",
    "Jp532 = DiodeReading*0.925/(DiodeResponse532*Area785ImageJ*1.60218e-19*Ep532*2)\n",
    "\n",
    "if data.shape[1] == 2: #single spectrum\n",
    "    lam = aipl_data[:,0]\n",
    "    E = heV*c/(lam*1e-9)\n",
    "    Ipl = aipl_data[:,1] \n",
    "    maxI = np.max(Ipl)\n",
    "    maxI_idx = np.argmax(Ipl)\n",
    "    peak_pos = E[maxI_idx]\n",
    "    HHMax_idx = np.argmin(np.absolute(maxI/2-Ipl[:maxI_idx]))\n",
    "    LHMax_idx = np.argmin(np.absolute(maxI/2-Ipl[maxI_idx:]))\n",
    "    LHMax_idx = LHMax_idx+maxI_idx-1\n",
    "    FWHM = E[HHMax_idx]-E[LHMax_idx]\n",
    "    VocSQ300 = VocSQs300_fn(E[maxI_idx])\n",
    "    VocSQ350 = VocSQs350_fn(E[maxI_idx])    \n",
    "    JphSQ = Jphs_fn(E[maxI_idx])\n",
    "    NSuns = Jp532*q/JphSQ;\n",
    "    VocMax300 = VocSQ300 + kb*300/q*np.log(Jp532*q/JphSQ)\n",
    "    VocMax350 = VocSQ350 + kb*350/q*np.log(Jp532*q/JphSQ)\n",
    "    TotalPL = np.mean(-E[1:-1]+E[0:-2])/2*(Ipl[0]+Ipl[-1]+2*np.sum(Ipl[1:-2]))\n",
    "    TotalPL_Eg = np.mean(-E[1:maxI_idx]+E[0:maxI_idx-1])/2*(Ipl[0]+Ipl[maxI_idx]+2*np.sum(Ipl[1:maxI_idx-1]))\n",
    "    PLQY = TotalPL/Jp532\n",
    "    dmu_PLQY = VocMax350-kbeV*350*np.log(1/PLQY)\n",
    "    chi_PLQY = dmu_PLQY/VocMax300 \n",
    "    chi_PLQY_Eg = (VocMax350-kbeV*350*np.log(1/(TotalPL_Eg/Jp532)))/VocMax300\n",
    "    PLQY_Eg = TotalPL_Eg/Jp532\n",
    "    dmu_PLQY_Eg = VocMax350-kbeV*350*np.log(1/(TotalPL_Eg/Jp532))\n",
    "    mean_Ipl = np.sum(Ipl_raw2*E)/np.sum(Ipl_raw2)\n",
    "else: #maps\n",
    "    k = 0\n",
    "    while np.isnan(aipl_data[0,k]):\n",
    "        k = k + 1\n",
    "    lam = aipl_data[0,k:]\n",
    "    E = heV*c/(lam*1e-9)\n",
    "    mean_Ipl = np.zeros(aipl_data.shape[0])\n",
    "    peak_pos = np.zeros(aipl_data.shape[0])\n",
    "    FWHM = np.zeros(aipl_data.shape[0])\n",
    "    PLQY = np.zeros(aipl_data.shape[0])\n",
    "    dmu_PLQY = np.zeros(aipl_data.shape[0])\n",
    "    chi_PLQY = np.zeros(aipl_data.shape[0])\n",
    "    dmu_PLQY_Eg = np.zeros(aipl_data.shape[0])\n",
    "    chi_PLQY_Eg = np.zeros(aipl_data.shape[0])\n",
    "    for ii in range(1,aipl_data.shape[0]):\n",
    "        Ipl = aipl_data[ii,k:]\n",
    "        maxI = np.max(Ipl)\n",
    "        maxI_idx = np.argmax(Ipl)\n",
    "        peak_pos[ii-1] = E[maxI_idx]\n",
    "        HHMax_idx = np.argmin(np.absolute(maxI/2-Ipl[:maxI_idx]))\n",
    "        LHMax_idx = np.argmin(np.absolute(maxI/2-Ipl[maxI_idx:]))\n",
    "        LHMax_idx = LHMax_idx+maxI_idx-1\n",
    "        FWHM[ii-1] = E[HHMax_idx]-E[LHMax_idx]\n",
    "        VocSQ300 = VocSQs300_fn(E[maxI_idx])\n",
    "        VocSQ350 = VocSQs350_fn(E[maxI_idx])    \n",
    "        JphSQ = Jphs_fn(E[maxI_idx])\n",
    "        NSuns = Jp532*q/JphSQ;\n",
    "        VocMax300 = VocSQ300 + kb*300/q*np.log(Jp532*q/JphSQ)\n",
    "        VocMax350 = VocSQ350 + kb*350/q*np.log(Jp532*q/JphSQ)\n",
    "        TotalPL = np.mean(-E[1:-1]+E[0:-2])/2*(Ipl[0]+Ipl[-1]+2*np.sum(Ipl[1:-2]))\n",
    "        TotalPL_Eg = np.mean(-E[1:maxI_idx]+E[0:maxI_idx-1])/2*(Ipl[0]+Ipl[maxI_idx]+2*np.sum(Ipl[1:maxI_idx-1]))\n",
    "        PLQY[ii-1] = TotalPL/Jp532\n",
    "        dmu_PLQY[ii-1] = VocMax350-kbeV*350*np.log(1/PLQY[ii-1])\n",
    "        chi_PLQY[ii-1] = dmu_PLQY[ii-1]/VocMax300 \n",
    "        chi_PLQY_Eg[ii-1] = (VocMax350-kbeV*350*np.log(1/(TotalPL_Eg/Jp532)))/VocMax300\n",
    "        PLQY_Eg = TotalPL_Eg/Jp532\n",
    "        dmu_PLQY_Eg[ii-1] = VocMax350-kbeV*350*np.log(1/(TotalPL_Eg/Jp532))\n",
    "        mean_Ipl[ii-1] = np.sum(Ipl*E)/np.sum(Ipl)\n",
    "\n",
    "\n"
   ]
  },
  {
   "cell_type": "code",
   "execution_count": 49,
   "metadata": {},
   "outputs": [
    {
     "name": "stdout",
     "output_type": "stream",
     "text": [
      "2.1051\n"
     ]
    },
    {
     "data": {
      "text/plain": [
       "<matplotlib.text.Text at 0x133b71be0>"
      ]
     },
     "execution_count": 49,
     "metadata": {},
     "output_type": "execute_result"
    },
    {
     "data": {
      "image/png": "[encoded data removed]",
      "text/plain": [
       "<matplotlib.figure.Figure at 0x126b51860>"
      ]
     },
     "metadata": {},
     "output_type": "display_data"
    }
   ],
   "source": [
    "def fpf(X,E,Xscale):\n",
    "\n",
    "    theta = X[0]*Xscale[0]\n",
    "    gam = X[2]*Xscale[1]\n",
    "    #a0 = X(3)*Xscale(3);\n",
    "    a0 = Xscale[2]\n",
    "    Eg = X[2]*Xscale[3]\n",
    "    #Eg = Xscale(4);\n",
    "    QFLS = X[3]*Xscale[4]\n",
    "    T = X[4]*Xscale[5]\n",
    "    #T = Xscale(6);\n",
    "    d = Xscale[6]\n",
    "\n",
    "    ge = np.zeros(E.shape[0])\n",
    "\n",
    "    for ii in range(E.shape[0]):\n",
    "        ge[ii] = 1/(gam*2*scipy.special.gamma(1+1/theta))*scipy.integrate.quad(lambda u: np.exp(-np.absolute(u/gam)**theta)*np.sqrt((E[ii]-Eg)-u),-math.inf,E[ii]-Eg)[0]\n",
    "\n",
    "    AIPL = 2*pi*E**2/(heV**3*c**2)*((1-np.exp(-a0*d*ge))/(np.exp((E-QFLS)/(keV*T))-1))*(1-2/(np.exp((E-QFLS)/(2*keV*T))+1))\n",
    "\n",
    "    AIPL = np.log(AIPL)\n",
    "    return AIPL\n",
    "\n",
    "X = np.ones(5);\n",
    "d = 375/(1e7) #cm\n",
    "Xscale = [1.5,.037,1e5,1.75,1.4,288,d]\n",
    "\n",
    "tic = time.clock()\n",
    "aipl_mod = fpf(X,E,Xscale)\n",
    "toc = time.clock()\n",
    "print(toc-tic)\n",
    "\n",
    "plt.plot(E,np.exp(aipl_mod))\n",
    "plt.xlabel('E [eV]', fontsize=18)\n",
    "plt.ylabel('AIPL',fontsize=18)"
   ]
  },
  {
   "cell_type": "code",
   "execution_count": 39,
   "metadata": {},
   "outputs": [
    {
     "name": "stderr",
     "output_type": "stream",
     "text": [
      "/Users/ryanstoddard/anaconda/lib/python3.6/site-packages/ipykernel_launcher.py:5: RuntimeWarning: invalid value encountered in sqrt\n",
      "  \"\"\"\n",
      "/Users/ryanstoddard/anaconda/lib/python3.6/site-packages/scipy/integrate/quadpack.py:364: IntegrationWarning: The occurrence of roundoff error is detected, which prevents \n",
      "  the requested tolerance from being achieved.  The error may be \n",
      "  underestimated.\n",
      "  warnings.warn(msg, IntegrationWarning)\n"
     ]
    },
    {
     "data": {
      "text/plain": [
       "0.029796827687627998"
      ]
     },
     "execution_count": 39,
     "metadata": {},
     "output_type": "execute_result"
    }
   ],
   "source": [
    "theta = 1.5\n",
    "gam = .037\n",
    "Eg = 1.75\n",
    "\n",
    "1/(gam*2*scipy.special.gamma(1+1/theta))*np.real(scipy.integrate.quad(lambda u: np.exp(-np.absolute(u/gam)**theta)*np.sqrt((E[ii]-Eg)-u),-5,5))\n",
    "\n",
    "scipy.integrate.quad(lambda u: np.exp(-np.absolute(u/gam)**theta)*np.sqrt((E[ii]-Eg)-u),-5,E[ii]-Eg)[0]"
   ]
  },
  {
   "cell_type": "code",
   "execution_count": null,
   "metadata": {
    "collapsed": true
   },
   "outputs": [],
   "source": []
  }
 ],
 "metadata": {
  "kernelspec": {
   "display_name": "Python 3",
   "language": "python",
   "name": "python3"
  },
  "language_info": {
   "codemirror_mode": {
    "name": "ipython",
    "version": 3
   },
   "file_extension": ".py",
   "mimetype": "text/x-python",
   "name": "python",
   "nbconvert_exporter": "python",
   "pygments_lexer": "ipython3",
   "version": "3.6.1"
  }
 },
 "nbformat": 4,
 "nbformat_minor": 2
}
