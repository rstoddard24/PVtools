{
 "cells": [
  {
   "cell_type": "code",
   "execution_count": 1,
   "metadata": {
    "collapsed": true
   },
   "outputs": [],
   "source": [
    "import numpy as np\n",
    "import pandas as pd\n",
    "import math\n",
    "import scipy\n",
    "from scipy.interpolate import interp1d\n",
    "import matplotlib.pyplot as plt\n",
    "%matplotlib inline"
   ]
  },
  {
   "cell_type": "code",
   "execution_count": 3,
   "metadata": {},
   "outputs": [],
   "source": [
    "#Constants\n",
    "pi = math.pi\n",
    "heV = 4.14e-15 #eV*s\n",
    "c = 2.99792e8 #m/s\n",
    "kbeV = 8.6173e-5 #eV/K\n",
    "keV = 8.6173e-5 #eV/K\n",
    "h = 6.626e-34\n",
    "kb = 1.38065e-23\n",
    "q = 1.60218e-19\n",
    "k = 1.3806488e-23\n",
    "T = 300\n",
    "\n",
    "CellAreacm = 0.0314;\n",
    "CellArea = CellAreacm*10**-4 #m^2\n",
    "Ps=100 #mW/cm^2"
   ]
  },
  {
   "cell_type": "code",
   "execution_count": 101,
   "metadata": {},
   "outputs": [
    {
     "name": "stdout",
     "output_type": "stream",
     "text": [
      "Optimization terminated successfully.\n",
      "         Current function value: -11.868085\n",
      "         Iterations: 10\n",
      "         Function evaluations: 20\n"
     ]
    },
    {
     "data": {
      "text/plain": [
       "[<matplotlib.lines.Line2D at 0x11aa9dc88>,\n",
       " <matplotlib.lines.Line2D at 0x11aa9de48>]"
      ]
     },
     "execution_count": 101,
     "metadata": {},
     "output_type": "execute_result"
    },
    {
     "data": {
      "image/png": "[encoded data removed]",
      "text/plain": [
       "<matplotlib.figure.Figure at 0x11a907358>"
      ]
     },
     "metadata": {},
     "output_type": "display_data"
    }
   ],
   "source": [
    "Directory = '../../data/JVdata/2017_3-5JV/'\n",
    "LName = '6_6l';\n",
    "DName = '6_5l';\n",
    "\n",
    "Ldata = np.loadtxt(Directory + LName)\n",
    "Ddata = np.loadtxt(Directory + DName)\n",
    "Ldata = np.insert(Ldata, 3, 1000*Ldata[:,2]/CellAreacm, axis=1)\n",
    "Ddata = np.insert(Ddata, 3, 1000*Ddata[:,2]/CellAreacm, axis=1)\n",
    "\n",
    "JVinterp = interp1d(Ldata[:,1], Ldata[:,3], kind='cubic')\n",
    "\n",
    "JscL = -JVinterp(0)\n",
    "VocL = scipy.optimize.fsolve(JVinterp,.9*max(Ldata[:,1]))\n",
    "PPV = scipy.optimize.fmin(lambda x: x*JVinterp(x),.8*VocL)\n",
    "PCE = -PPV*JVinterp(PPV)\n",
    "FF = PCE/(JscL*VocL)*100\n",
    "\n",
    "plt.plot(Ldata[:,1],Ldata[:,3],Ddata[:,1],Ddata[:,3])"
   ]
  },
  {
   "cell_type": "code",
   "execution_count": 97,
   "metadata": {},
   "outputs": [
    {
     "data": {
      "text/plain": [
       "array([ 11.86808547])"
      ]
     },
     "execution_count": 97,
     "metadata": {},
     "output_type": "execute_result"
    }
   ],
   "source": [
    "PCE"
   ]
  },
  {
   "cell_type": "code",
   "execution_count": 102,
   "metadata": {},
   "outputs": [
    {
     "data": {
      "text/plain": [
       "array([ 67.68474258])"
      ]
     },
     "execution_count": 102,
     "metadata": {},
     "output_type": "execute_result"
    }
   ],
   "source": [
    "FF"
   ]
  },
  {
   "cell_type": "code",
   "execution_count": null,
   "metadata": {
    "collapsed": true
   },
   "outputs": [],
   "source": []
  }
 ],
 "metadata": {
  "kernelspec": {
   "display_name": "Python 3",
   "language": "python",
   "name": "python3"
  },
  "language_info": {
   "codemirror_mode": {
    "name": "ipython",
    "version": 3
   },
   "file_extension": ".py",
   "mimetype": "text/x-python",
   "name": "python",
   "nbconvert_exporter": "python",
   "pygments_lexer": "ipython3",
   "version": "3.6.1"
  }
 },
 "nbformat": 4,
 "nbformat_minor": 2
}
