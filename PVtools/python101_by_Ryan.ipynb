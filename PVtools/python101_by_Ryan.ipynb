{
 "cells": [
  {
   "cell_type": "markdown",
   "metadata": {},
   "source": [
    "# Things to chat about\n",
    "\n",
    "1. If you are brand new to coding\n",
    "    * Work thru \"basic topics\" here: https://www.learnpython.org/\n",
    "    * For fun, do the coding challanges here: https://coderbyte.com/\n",
    "2. Using spyder and jupyter notebook to analyze data\n",
    "    * jupyter notebook: open terminal (mac) or AnacondaPrompt (Windows). type \"cd {directory}\" ENTER. \"jupyter notebook\" ENTER\n",
    "    * spyder: open from AnacondaNavigator. \n",
    "    * Or better yet, set up so it opens like an application: [Mac](https://stackoverflow.com/questions/20723977/ways-to-invoke-python-and-spyder-on-osx) \n",
    "3. Introduction to collaboration via Github, and how to access the analysis tools I am developing\n",
    "    * To start: git clone\n",
    "    * To receive new updates: git pull\n",
    "    * git status\n",
    "    * To send new features, etc: git add, git commit, git push\n",
    "4. importing/installing packages/modules\n",
    "    * python setup.py\n",
    "    * [pip install](https://pip.pypa.io/en/stable/installing/)\n",
    "    * [shablona packege layout example](https://github.com/uwescience/shablona)\n",
    "5. Using python for routine analysis (PL, JV, UVvis, etc.)\n",
    "6. Other cool python uses\n",
    "    * [Dash apps](https://dash.plot.ly/gallery)\n",
    "    * [Matplotlib examples](https://matplotlib.org/2.0.2/gallery.html)"
   ]
  },
  {
   "cell_type": "code",
   "execution_count": null,
   "metadata": {},
   "outputs": [],
   "source": []
  }
 ],
 "metadata": {
  "kernelspec": {
   "display_name": "Python 3",
   "language": "python",
   "name": "python3"
  },
  "language_info": {
   "codemirror_mode": {
    "name": "ipython",
    "version": 3
   },
   "file_extension": ".py",
   "mimetype": "text/x-python",
   "name": "python",
   "nbconvert_exporter": "python",
   "pygments_lexer": "ipython3",
   "version": "3.6.6"
  }
 },
 "nbformat": 4,
 "nbformat_minor": 2
}
